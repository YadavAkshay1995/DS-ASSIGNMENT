{
 "cells": [
  {
   "cell_type": "markdown",
   "id": "cf979bee",
   "metadata": {},
   "source": [
    "# Q1 # Assumptions\n",
    "\n"
   ]
  },
  {
   "cell_type": "code",
   "execution_count": 2,
   "id": "84cea1a2",
   "metadata": {},
   "outputs": [],
   "source": [
    "# Null Hypothesis Ho: μ1 = μ2(No difference in diameters of cutlets between two units)\n",
    "#Alternate Hypothesis H1: μ1 ≠ μ2(There is difference in diameters of cutlets between two units )"
   ]
  },
  {
   "cell_type": "code",
   "execution_count": 3,
   "id": "c9cd7d25",
   "metadata": {},
   "outputs": [],
   "source": [
    "#Importing Libraries\n",
    "import numpy as np\n",
    "import pandas as pd\n",
    "from scipy import stats\n",
    "from scipy.stats import norm\n",
    "import warnings"
   ]
  },
  {
   "cell_type": "code",
   "execution_count": 4,
   "id": "2221570b",
   "metadata": {},
   "outputs": [
    {
     "data": {
      "text/html": [
       "<div>\n",
       "<style scoped>\n",
       "    .dataframe tbody tr th:only-of-type {\n",
       "        vertical-align: middle;\n",
       "    }\n",
       "\n",
       "    .dataframe tbody tr th {\n",
       "        vertical-align: top;\n",
       "    }\n",
       "\n",
       "    .dataframe thead th {\n",
       "        text-align: right;\n",
       "    }\n",
       "</style>\n",
       "<table border=\"1\" class=\"dataframe\">\n",
       "  <thead>\n",
       "    <tr style=\"text-align: right;\">\n",
       "      <th></th>\n",
       "      <th>Unit A</th>\n",
       "      <th>Unit B</th>\n",
       "    </tr>\n",
       "  </thead>\n",
       "  <tbody>\n",
       "    <tr>\n",
       "      <th>0</th>\n",
       "      <td>6.8090</td>\n",
       "      <td>6.7703</td>\n",
       "    </tr>\n",
       "    <tr>\n",
       "      <th>1</th>\n",
       "      <td>6.4376</td>\n",
       "      <td>7.5093</td>\n",
       "    </tr>\n",
       "    <tr>\n",
       "      <th>2</th>\n",
       "      <td>6.9157</td>\n",
       "      <td>6.7300</td>\n",
       "    </tr>\n",
       "    <tr>\n",
       "      <th>3</th>\n",
       "      <td>7.3012</td>\n",
       "      <td>6.7878</td>\n",
       "    </tr>\n",
       "    <tr>\n",
       "      <th>4</th>\n",
       "      <td>7.4488</td>\n",
       "      <td>7.1522</td>\n",
       "    </tr>\n",
       "  </tbody>\n",
       "</table>\n",
       "</div>"
      ],
      "text/plain": [
       "   Unit A  Unit B\n",
       "0  6.8090  6.7703\n",
       "1  6.4376  7.5093\n",
       "2  6.9157  6.7300\n",
       "3  7.3012  6.7878\n",
       "4  7.4488  7.1522"
      ]
     },
     "execution_count": 4,
     "metadata": {},
     "output_type": "execute_result"
    }
   ],
   "source": [
    "#Loading dataset\n",
    "Data=pd.read_csv(r\"C:\\Users\\Akshay Yadav\\Downloads\\Data Science\\Assignment\\Assignment-03-Hypothesis Testing\\Cutlets.csv\")\n",
    "Data.head()"
   ]
  },
  {
   "cell_type": "code",
   "execution_count": 5,
   "id": "679e5b15",
   "metadata": {},
   "outputs": [
    {
     "data": {
      "text/plain": [
       "0     6.8090\n",
       "1     6.4376\n",
       "2     6.9157\n",
       "3     7.3012\n",
       "4     7.4488\n",
       "5     7.3871\n",
       "6     6.8755\n",
       "7     7.0621\n",
       "8     6.6840\n",
       "9     6.8236\n",
       "10    7.3930\n",
       "11    7.5169\n",
       "12    6.9246\n",
       "13    6.9256\n",
       "14    6.5797\n",
       "15    6.8394\n",
       "16    6.5970\n",
       "17    7.2705\n",
       "18    7.2828\n",
       "19    7.3495\n",
       "20    6.9438\n",
       "21    7.1560\n",
       "22    6.5341\n",
       "23    7.2854\n",
       "24    6.9952\n",
       "25    6.8568\n",
       "26    7.2163\n",
       "27    6.6801\n",
       "28    6.9431\n",
       "29    7.0852\n",
       "30    6.7794\n",
       "31    7.2783\n",
       "32    7.1561\n",
       "33    7.3943\n",
       "34    6.9405\n",
       "Name: Unit A, dtype: float64"
      ]
     },
     "execution_count": 5,
     "metadata": {},
     "output_type": "execute_result"
    }
   ],
   "source": [
    "UnitA=pd.Series(Data.iloc[:,0])\n",
    "UnitA"
   ]
  },
  {
   "cell_type": "code",
   "execution_count": 6,
   "id": "b9aa3494",
   "metadata": {},
   "outputs": [
    {
     "data": {
      "text/plain": [
       "0     6.7703\n",
       "1     7.5093\n",
       "2     6.7300\n",
       "3     6.7878\n",
       "4     7.1522\n",
       "5     6.8110\n",
       "6     7.2212\n",
       "7     6.6606\n",
       "8     7.2402\n",
       "9     7.0503\n",
       "10    6.8810\n",
       "11    7.4059\n",
       "12    6.7652\n",
       "13    6.0380\n",
       "14    7.1581\n",
       "15    7.0240\n",
       "16    6.6672\n",
       "17    7.4314\n",
       "18    7.3070\n",
       "19    6.7478\n",
       "20    6.8889\n",
       "21    7.4220\n",
       "22    6.5217\n",
       "23    7.1688\n",
       "24    6.7594\n",
       "25    6.9399\n",
       "26    7.0133\n",
       "27    6.9182\n",
       "28    6.3346\n",
       "29    7.5459\n",
       "30    7.0992\n",
       "31    7.1180\n",
       "32    6.6965\n",
       "33    6.5780\n",
       "34    7.3875\n",
       "Name: Unit B, dtype: float64"
      ]
     },
     "execution_count": 6,
     "metadata": {},
     "output_type": "execute_result"
    }
   ],
   "source": [
    "UnitB=pd.Series(Data.iloc[:,1])\n",
    "UnitB"
   ]
  },
  {
   "cell_type": "code",
   "execution_count": 7,
   "id": "0985e77b",
   "metadata": {},
   "outputs": [
    {
     "data": {
      "text/plain": [
       "Ttest_indResult(statistic=0.7228688704678063, pvalue=0.4722394724599501)"
      ]
     },
     "execution_count": 7,
     "metadata": {},
     "output_type": "execute_result"
    }
   ],
   "source": [
    "p_value=stats.ttest_ind(UnitA,UnitB)\n",
    "p_value"
   ]
  },
  {
   "cell_type": "code",
   "execution_count": 8,
   "id": "7270bf5a",
   "metadata": {},
   "outputs": [
    {
     "data": {
      "text/plain": [
       "0.4722394724599501"
      ]
     },
     "execution_count": 8,
     "metadata": {},
     "output_type": "execute_result"
    }
   ],
   "source": [
    "p_value[1]"
   ]
  },
  {
   "cell_type": "markdown",
   "id": "dc279ad9",
   "metadata": {},
   "source": [
    "# p value of the test is greater than 0.05(significane level) ,so we will accept null hypothesis.\n",
    "\n"
   ]
  },
  {
   "cell_type": "markdown",
   "id": "ced2b5c8",
   "metadata": {},
   "source": [
    "# There is no significant difference in the diameter of the cutlet between unitA & unitB"
   ]
  },
  {
   "cell_type": "code",
   "execution_count": null,
   "id": "4c92360b",
   "metadata": {},
   "outputs": [],
   "source": []
  },
  {
   "cell_type": "code",
   "execution_count": null,
   "id": "b3867a0e",
   "metadata": {},
   "outputs": [],
   "source": []
  },
  {
   "cell_type": "markdown",
   "id": "ef31942c",
   "metadata": {},
   "source": [
    "# Q2"
   ]
  },
  {
   "cell_type": "code",
   "execution_count": 9,
   "id": "411eb310",
   "metadata": {},
   "outputs": [],
   "source": [
    "#Importing Libraries\n",
    "import numpy as np\n",
    "import pandas as pd\n",
    "from scipy import stats\n",
    "from scipy.stats import norm\n",
    "from scipy.stats import f_oneway\n",
    "import warnings"
   ]
  },
  {
   "cell_type": "code",
   "execution_count": 10,
   "id": "f9493c92",
   "metadata": {},
   "outputs": [
    {
     "data": {
      "text/html": [
       "<div>\n",
       "<style scoped>\n",
       "    .dataframe tbody tr th:only-of-type {\n",
       "        vertical-align: middle;\n",
       "    }\n",
       "\n",
       "    .dataframe tbody tr th {\n",
       "        vertical-align: top;\n",
       "    }\n",
       "\n",
       "    .dataframe thead th {\n",
       "        text-align: right;\n",
       "    }\n",
       "</style>\n",
       "<table border=\"1\" class=\"dataframe\">\n",
       "  <thead>\n",
       "    <tr style=\"text-align: right;\">\n",
       "      <th></th>\n",
       "      <th>Laboratory 1</th>\n",
       "      <th>Laboratory 2</th>\n",
       "      <th>Laboratory 3</th>\n",
       "      <th>Laboratory 4</th>\n",
       "    </tr>\n",
       "  </thead>\n",
       "  <tbody>\n",
       "    <tr>\n",
       "      <th>0</th>\n",
       "      <td>185.35</td>\n",
       "      <td>165.53</td>\n",
       "      <td>176.70</td>\n",
       "      <td>166.13</td>\n",
       "    </tr>\n",
       "    <tr>\n",
       "      <th>1</th>\n",
       "      <td>170.49</td>\n",
       "      <td>185.91</td>\n",
       "      <td>198.45</td>\n",
       "      <td>160.79</td>\n",
       "    </tr>\n",
       "    <tr>\n",
       "      <th>2</th>\n",
       "      <td>192.77</td>\n",
       "      <td>194.92</td>\n",
       "      <td>201.23</td>\n",
       "      <td>185.18</td>\n",
       "    </tr>\n",
       "    <tr>\n",
       "      <th>3</th>\n",
       "      <td>177.33</td>\n",
       "      <td>183.00</td>\n",
       "      <td>199.61</td>\n",
       "      <td>176.42</td>\n",
       "    </tr>\n",
       "    <tr>\n",
       "      <th>4</th>\n",
       "      <td>193.41</td>\n",
       "      <td>169.57</td>\n",
       "      <td>204.63</td>\n",
       "      <td>152.60</td>\n",
       "    </tr>\n",
       "  </tbody>\n",
       "</table>\n",
       "</div>"
      ],
      "text/plain": [
       "   Laboratory 1  Laboratory 2  Laboratory 3  Laboratory 4\n",
       "0        185.35        165.53        176.70        166.13\n",
       "1        170.49        185.91        198.45        160.79\n",
       "2        192.77        194.92        201.23        185.18\n",
       "3        177.33        183.00        199.61        176.42\n",
       "4        193.41        169.57        204.63        152.60"
      ]
     },
     "execution_count": 10,
     "metadata": {},
     "output_type": "execute_result"
    }
   ],
   "source": [
    "Data=pd.read_csv(r\"C:\\Users\\Akshay Yadav\\Downloads\\Data Science\\Assignment\\Assignment-03-Hypothesis Testing\\LabTAT.csv\")\n",
    "Data.head()"
   ]
  },
  {
   "cell_type": "code",
   "execution_count": 11,
   "id": "def0d394",
   "metadata": {},
   "outputs": [
    {
     "data": {
      "text/plain": [
       "F_onewayResult(statistic=118.70421654401437, pvalue=2.1156708949992414e-57)"
      ]
     },
     "execution_count": 11,
     "metadata": {},
     "output_type": "execute_result"
    }
   ],
   "source": [
    "#Anova ftest statistics for two or more groups\n",
    "P_value=stats.f_oneway(Data.iloc[:,0],Data.iloc[:,1],Data.iloc[:,2],Data.iloc[:,3])\n",
    "P_value"
   ]
  },
  {
   "cell_type": "markdown",
   "id": "60803490",
   "metadata": {},
   "source": [
    "# P value is > then 0.05 so we will accept NULL Hypothesis"
   ]
  },
  {
   "cell_type": "code",
   "execution_count": null,
   "id": "7ed509f8",
   "metadata": {},
   "outputs": [],
   "source": []
  },
  {
   "cell_type": "code",
   "execution_count": null,
   "id": "d64e0816",
   "metadata": {},
   "outputs": [],
   "source": []
  },
  {
   "cell_type": "markdown",
   "id": "f94650cb",
   "metadata": {},
   "source": [
    "# Q3"
   ]
  },
  {
   "cell_type": "code",
   "execution_count": 12,
   "id": "60032139",
   "metadata": {},
   "outputs": [],
   "source": [
    "#Assumptions: # Null Hypothesis Ho: μ1 = μ2(Male and Female buying ratio is equal)\n",
    "              #Alternate Hypothesis H1: μ1 ≠ μ2(Male and Female buying ratio varies)"
   ]
  },
  {
   "cell_type": "code",
   "execution_count": 13,
   "id": "0eb10c29",
   "metadata": {},
   "outputs": [],
   "source": [
    "#Importing Libraries\n",
    "import numpy as np\n",
    "import pandas as pd\n",
    "from scipy import stats\n",
    "from scipy.stats import norm\n",
    "from scipy.stats import f_oneway\n",
    "from scipy.stats import chi2_contingency\n",
    "import warnings"
   ]
  },
  {
   "cell_type": "code",
   "execution_count": 14,
   "id": "948345ac",
   "metadata": {},
   "outputs": [
    {
     "data": {
      "text/html": [
       "<div>\n",
       "<style scoped>\n",
       "    .dataframe tbody tr th:only-of-type {\n",
       "        vertical-align: middle;\n",
       "    }\n",
       "\n",
       "    .dataframe tbody tr th {\n",
       "        vertical-align: top;\n",
       "    }\n",
       "\n",
       "    .dataframe thead th {\n",
       "        text-align: right;\n",
       "    }\n",
       "</style>\n",
       "<table border=\"1\" class=\"dataframe\">\n",
       "  <thead>\n",
       "    <tr style=\"text-align: right;\">\n",
       "      <th></th>\n",
       "      <th>Observed Values</th>\n",
       "      <th>East</th>\n",
       "      <th>West</th>\n",
       "      <th>North</th>\n",
       "      <th>South</th>\n",
       "    </tr>\n",
       "  </thead>\n",
       "  <tbody>\n",
       "    <tr>\n",
       "      <th>0</th>\n",
       "      <td>Males</td>\n",
       "      <td>50</td>\n",
       "      <td>142</td>\n",
       "      <td>131</td>\n",
       "      <td>70</td>\n",
       "    </tr>\n",
       "    <tr>\n",
       "      <th>1</th>\n",
       "      <td>Females</td>\n",
       "      <td>435</td>\n",
       "      <td>1523</td>\n",
       "      <td>1356</td>\n",
       "      <td>750</td>\n",
       "    </tr>\n",
       "  </tbody>\n",
       "</table>\n",
       "</div>"
      ],
      "text/plain": [
       "  Observed Values  East  West  North  South\n",
       "0           Males    50   142    131     70\n",
       "1         Females   435  1523   1356    750"
      ]
     },
     "execution_count": 14,
     "metadata": {},
     "output_type": "execute_result"
    }
   ],
   "source": [
    "Data=pd.read_csv(r\"C:\\Users\\Akshay Yadav\\Downloads\\Data Science\\Assignment\\Assignment-03-Hypothesis Testing\\BuyerRatio.csv\")\n",
    "Data.head()"
   ]
  },
  {
   "cell_type": "code",
   "execution_count": 15,
   "id": "8dbe1bda",
   "metadata": {},
   "outputs": [
    {
     "data": {
      "text/plain": [
       "array([[  50,  142,  131,   70],\n",
       "       [ 435, 1523, 1356,  750]])"
      ]
     },
     "execution_count": 15,
     "metadata": {},
     "output_type": "execute_result"
    }
   ],
   "source": [
    "#Array\n",
    "Observation=np.array([[50,142,131,70],[435,1523,1356,750]])\n",
    "Observation"
   ]
  },
  {
   "cell_type": "code",
   "execution_count": 13,
   "id": "62b932fe",
   "metadata": {},
   "outputs": [
    {
     "data": {
      "text/plain": [
       "(3.858960685820355,\n",
       " 0.2771020991233135,\n",
       " 3,\n",
       " array([[271.75, 271.75, 271.75, 271.75],\n",
       "        [ 28.25,  28.25,  28.25,  28.25]]))"
      ]
     },
     "execution_count": 13,
     "metadata": {},
     "output_type": "execute_result"
    }
   ],
   "source": [
    "chi2_contingency(Observation)\n",
    "#[Chi_2,P_value,df,Expected observations] \n",
    "#Chi2 is used when variable in question is a categoricalvariable"
   ]
  },
  {
   "cell_type": "markdown",
   "id": "165ebb17",
   "metadata": {},
   "source": [
    "# P_value>0.05 So we will accept NULL Hypothesis"
   ]
  },
  {
   "cell_type": "code",
   "execution_count": null,
   "id": "894fce5c",
   "metadata": {},
   "outputs": [],
   "source": []
  },
  {
   "cell_type": "code",
   "execution_count": null,
   "id": "22c7dfb4",
   "metadata": {},
   "outputs": [],
   "source": []
  },
  {
   "cell_type": "markdown",
   "id": "d4d10690",
   "metadata": {},
   "source": [
    "# Q4"
   ]
  },
  {
   "cell_type": "code",
   "execution_count": 1,
   "id": "2f5c6bb6",
   "metadata": {},
   "outputs": [],
   "source": [
    "#Importing Libraries\n",
    "import numpy as np\n",
    "import pandas as pd\n",
    "from scipy import stats\n",
    "from scipy.stats import norm\n",
    "from scipy.stats import f_oneway\n",
    "from scipy.stats import chi2_contingency\n",
    "import warnings"
   ]
  },
  {
   "cell_type": "code",
   "execution_count": 2,
   "id": "ad9f1de5",
   "metadata": {},
   "outputs": [
    {
     "data": {
      "text/html": [
       "<div>\n",
       "<style scoped>\n",
       "    .dataframe tbody tr th:only-of-type {\n",
       "        vertical-align: middle;\n",
       "    }\n",
       "\n",
       "    .dataframe tbody tr th {\n",
       "        vertical-align: top;\n",
       "    }\n",
       "\n",
       "    .dataframe thead th {\n",
       "        text-align: right;\n",
       "    }\n",
       "</style>\n",
       "<table border=\"1\" class=\"dataframe\">\n",
       "  <thead>\n",
       "    <tr style=\"text-align: right;\">\n",
       "      <th></th>\n",
       "      <th>Phillippines</th>\n",
       "      <th>Indonesia</th>\n",
       "      <th>Malta</th>\n",
       "      <th>India</th>\n",
       "    </tr>\n",
       "  </thead>\n",
       "  <tbody>\n",
       "    <tr>\n",
       "      <th>0</th>\n",
       "      <td>Error Free</td>\n",
       "      <td>Error Free</td>\n",
       "      <td>Defective</td>\n",
       "      <td>Error Free</td>\n",
       "    </tr>\n",
       "    <tr>\n",
       "      <th>1</th>\n",
       "      <td>Error Free</td>\n",
       "      <td>Error Free</td>\n",
       "      <td>Error Free</td>\n",
       "      <td>Defective</td>\n",
       "    </tr>\n",
       "    <tr>\n",
       "      <th>2</th>\n",
       "      <td>Error Free</td>\n",
       "      <td>Defective</td>\n",
       "      <td>Defective</td>\n",
       "      <td>Error Free</td>\n",
       "    </tr>\n",
       "    <tr>\n",
       "      <th>3</th>\n",
       "      <td>Error Free</td>\n",
       "      <td>Error Free</td>\n",
       "      <td>Error Free</td>\n",
       "      <td>Error Free</td>\n",
       "    </tr>\n",
       "    <tr>\n",
       "      <th>4</th>\n",
       "      <td>Error Free</td>\n",
       "      <td>Error Free</td>\n",
       "      <td>Defective</td>\n",
       "      <td>Error Free</td>\n",
       "    </tr>\n",
       "  </tbody>\n",
       "</table>\n",
       "</div>"
      ],
      "text/plain": [
       "  Phillippines   Indonesia       Malta       India\n",
       "0   Error Free  Error Free   Defective  Error Free\n",
       "1   Error Free  Error Free  Error Free   Defective\n",
       "2   Error Free   Defective   Defective  Error Free\n",
       "3   Error Free  Error Free  Error Free  Error Free\n",
       "4   Error Free  Error Free   Defective  Error Free"
      ]
     },
     "execution_count": 2,
     "metadata": {},
     "output_type": "execute_result"
    }
   ],
   "source": [
    "#Importing dataset\n",
    "Data=pd.read_csv(r\"C:\\Users\\Akshay Yadav\\Downloads\\Data Science\\Assignment\\Assignment-03-Hypothesis Testing\\Costomer+OrderForm.csv\")\n",
    "Data.head()"
   ]
  },
  {
   "cell_type": "code",
   "execution_count": 8,
   "id": "7f7891c4",
   "metadata": {},
   "outputs": [
    {
     "data": {
      "text/plain": [
       "Error Free    271\n",
       "Defective      29\n",
       "Name: Phillippines, dtype: int64"
      ]
     },
     "execution_count": 8,
     "metadata": {},
     "output_type": "execute_result"
    }
   ],
   "source": [
    "#As the variable are categorical we will use Chi_2 sq\n",
    "Data.Phillippines.value_counts()"
   ]
  },
  {
   "cell_type": "code",
   "execution_count": 9,
   "id": "6d77a3f3",
   "metadata": {},
   "outputs": [
    {
     "data": {
      "text/plain": [
       "Error Free    267\n",
       "Defective      33\n",
       "Name: Indonesia, dtype: int64"
      ]
     },
     "execution_count": 9,
     "metadata": {},
     "output_type": "execute_result"
    }
   ],
   "source": [
    "Data.Indonesia.value_counts()"
   ]
  },
  {
   "cell_type": "code",
   "execution_count": 10,
   "id": "64482dfb",
   "metadata": {},
   "outputs": [
    {
     "data": {
      "text/plain": [
       "Error Free    269\n",
       "Defective      31\n",
       "Name: Malta, dtype: int64"
      ]
     },
     "execution_count": 10,
     "metadata": {},
     "output_type": "execute_result"
    }
   ],
   "source": [
    "Data.Malta.value_counts()"
   ]
  },
  {
   "cell_type": "code",
   "execution_count": 11,
   "id": "6745bba9",
   "metadata": {},
   "outputs": [
    {
     "data": {
      "text/plain": [
       "Error Free    280\n",
       "Defective      20\n",
       "Name: India, dtype: int64"
      ]
     },
     "execution_count": 11,
     "metadata": {},
     "output_type": "execute_result"
    }
   ],
   "source": [
    "Data.India.value_counts()"
   ]
  },
  {
   "cell_type": "code",
   "execution_count": 17,
   "id": "f5061f5f",
   "metadata": {},
   "outputs": [
    {
     "data": {
      "text/plain": [
       "array([[271, 267, 269, 280],\n",
       "       [ 29,  33,  31,  20]])"
      ]
     },
     "execution_count": 17,
     "metadata": {},
     "output_type": "execute_result"
    }
   ],
   "source": [
    "#Array\n",
    "obs=np.array([[271,267,269,280],[29,33,31,20]])\n",
    "obs"
   ]
  },
  {
   "cell_type": "code",
   "execution_count": 18,
   "id": "ecea44fe",
   "metadata": {},
   "outputs": [
    {
     "data": {
      "text/plain": [
       "(3.858960685820355,\n",
       " 0.2771020991233135,\n",
       " 3,\n",
       " array([[271.75, 271.75, 271.75, 271.75],\n",
       "        [ 28.25,  28.25,  28.25,  28.25]]))"
      ]
     },
     "execution_count": 18,
     "metadata": {},
     "output_type": "execute_result"
    }
   ],
   "source": [
    "chi2_contingency(obs)\n",
    "\n",
    "#[Chi_2,P_value,df,Expected observations] \n",
    "#Chi2 is used when variable in question is a categoricalvariable"
   ]
  },
  {
   "cell_type": "markdown",
   "id": "5c7014a7",
   "metadata": {},
   "source": [
    "# P_value >0.05 So we will accept NULL Hypothesis"
   ]
  },
  {
   "cell_type": "code",
   "execution_count": null,
   "id": "22685d58",
   "metadata": {},
   "outputs": [],
   "source": [
    "#Customer order forms defective % doesnot varies by centre"
   ]
  }
 ],
 "metadata": {
  "kernelspec": {
   "display_name": "Python 3 (ipykernel)",
   "language": "python",
   "name": "python3"
  },
  "language_info": {
   "codemirror_mode": {
    "name": "ipython",
    "version": 3
   },
   "file_extension": ".py",
   "mimetype": "text/x-python",
   "name": "python",
   "nbconvert_exporter": "python",
   "pygments_lexer": "ipython3",
   "version": "3.9.12"
  }
 },
 "nbformat": 4,
 "nbformat_minor": 5
}
